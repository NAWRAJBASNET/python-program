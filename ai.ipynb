{
 "cells": [
  {
   "cell_type": "code",
   "execution_count": 4,
   "id": "2ad11506",
   "metadata": {},
   "outputs": [
    {
     "name": "stdout",
     "output_type": "stream",
     "text": [
      "Enter the starting number 1\n",
      "Enter the last number 107\n",
      "Prime numbers in the range1 and 107:[2, 3, 5, 7, 11, 13, 17, 19, 23, 29, 31, 37, 41, 43, 47, 53, 59, 61, 67, 71, 73, 79, 83, 89, 97, 101, 103, 107]\n"
     ]
    }
   ],
   "source": [
    "#Prime number\n",
    "def is_prime(n):\n",
    "    if n<2:\n",
    "        return False\n",
    "    else:\n",
    "        for i in range(2,int(n**0.5)+1):\n",
    "            if n%i==0:\n",
    "                return False\n",
    "        return True\n",
    "\n",
    "def prime(start,end):\n",
    "    prime_n=[]\n",
    "    for n in range (start,end+1):\n",
    "        if is_prime(n):\n",
    "            prime_n.append(n)\n",
    "    return prime_n\n",
    "\n",
    "start=int(input(\"Enter the starting number \"))\n",
    "end=int(input(\"Enter the last number \"))\n",
    "result = prime(start,end)\n",
    "print(f\"Prime numbers in the range{start} and {end}:{result}\")\n",
    "     \n",
    "\n",
    "\n",
    "\n",
    "10#Fibonacci series\n",
    "ft = 0\n",
    "st = 1\n",
    "n = int(input(\"Enter No. of Terms: \"))\n",
    "\n",
    "print(f\"Fibonacci Series = {ft}, {st}\", end=\", \")\n",
    "\n",
    "for i in range(1, n-1):\n",
    "    nt = ft + st\n",
    "    print(f\"{nt}\", end=\", \")\n",
    "    ft, st = st, nt\n",
    "     \n",
    "Enter No. of Terms: 9\n",
    "Fibonacci Series = 0, 1, 1, 2, 3, 5, 8, 13, 21, \n",
    "\n"
   ]
  },
  {
   "cell_type": "code",
   "execution_count": 7,
   "id": "943fcad0",
   "metadata": {},
   "outputs": [
    {
     "name": "stdout",
     "output_type": "stream",
     "text": [
      "Enter a number:121\n",
      "The number is palindrome!\n"
     ]
    }
   ],
   "source": [
    "#Palindrome or not\n",
    "num=int(input(\"Enter a number:\"))\n",
    "temp=num\n",
    "rev=0\n",
    "while(num>0):\n",
    "    dig=num%10\n",
    "    rev=rev*10+dig\n",
    "    num=num//10\n",
    "if(temp==rev):\n",
    "    print(\"The number is palindrome!\")\n",
    "else:\n",
    "    print(\"Not a palindrome!\")\n",
    "    \n"
   ]
  },
  {
   "cell_type": "code",
   "execution_count": 8,
   "id": "836aa670",
   "metadata": {},
   "outputs": [
    {
     "name": "stdout",
     "output_type": "stream",
     "text": [
      "Enter No. of Terms: 5\n",
      "Fibonacci Series = 0, 1, 1, 2, 3, "
     ]
    }
   ],
   "source": [
    "10#Fibonacci series\n",
    "ft = 0\n",
    "st = 1\n",
    "n = int(input(\"Enter No. of Terms: \"))\n",
    "\n",
    "print(f\"Fibonacci Series = {ft}, {st}\", end=\", \")\n",
    "\n",
    "for i in range(1, n-1):\n",
    "    nt = ft + st\n",
    "    print(f\"{nt}\", end=\", \")\n",
    "    ft, st = st, nt\n",
    "     \n"
   ]
  },
  {
   "cell_type": "code",
   "execution_count": 13,
   "id": "f7ffb936",
   "metadata": {},
   "outputs": [
    {
     "name": "stdout",
     "output_type": "stream",
     "text": [
      "Welcome to the Number Guessing Game!\n",
      "I'm thinking of a number between 1 and 100.\n",
      "Make a guess: 50\n",
      "Too high. Try again.\n",
      "Make a guess: 40\n",
      "Too high. Try again.\n",
      "Make a guess: 20\n",
      "Too high. Try again.\n",
      "Make a guess: 10\n",
      "Too high. Try again.\n",
      "Make a guess: 5\n",
      "Congratulations! You guessed the number correctly.\n"
     ]
    }
   ],
   "source": [
    "#Number guessing game\n",
    "import random\n",
    "\n",
    "def guess_number_game():\n",
    "    number_to_guess = random.randint(1, 100)\n",
    "    guess = None\n",
    "\n",
    "    print(\"Welcome to the Number Guessing Game!\")\n",
    "    print(\"I'm thinking of a number between 1 and 100.\")\n",
    "    while guess != number_to_guess:\n",
    "        try:\n",
    "            guess = int(input(\"Make a guess: \"))\n",
    "            if guess < number_to_guess:\n",
    "                print(\"Too low. Try again.\")\n",
    "            elif guess > number_to_guess:\n",
    "                print(\"Too high. Try again.\")\n",
    "            else:\n",
    "                print(\"Congratulations! You guessed the number correctly.\")\n",
    "                break\n",
    "        except ValueError:\n",
    "            print(\"Please enter a valid number.\")\n",
    "\n",
    "guess_number_game()"
   ]
  },
  {
   "cell_type": "code",
   "execution_count": null,
   "id": "752548b0",
   "metadata": {},
   "outputs": [],
   "source": []
  },
  {
   "cell_type": "code",
   "execution_count": null,
   "id": "8882f42c",
   "metadata": {},
   "outputs": [],
   "source": []
  }
 ],
 "metadata": {
  "kernelspec": {
   "display_name": "Python 3 (ipykernel)",
   "language": "python",
   "name": "python3"
  },
  "language_info": {
   "codemirror_mode": {
    "name": "ipython",
    "version": 3
   },
   "file_extension": ".py",
   "mimetype": "text/x-python",
   "name": "python",
   "nbconvert_exporter": "python",
   "pygments_lexer": "ipython3",
   "version": "3.11.5"
  }
 },
 "nbformat": 4,
 "nbformat_minor": 5
}
